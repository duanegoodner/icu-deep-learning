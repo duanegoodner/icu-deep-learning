{
 "cells": [
  {
   "cell_type": "code",
   "execution_count": 1,
   "metadata": {},
   "outputs": [],
   "source": [
    "import sys\n",
    "import src_paths\n",
    "sys.path.append(str(src_paths.lstm_adversarial_attack_pkg))\n",
    "import lstm_adversarial_attack.config_paths as lcp\n",
    "import lstm_adversarial_attack.config_settings as lcs\n",
    "import lstm_adversarial_attack.query_db.mimiciii_database as mdb"
   ]
  },
  {
   "cell_type": "code",
   "execution_count": 2,
   "metadata": {},
   "outputs": [
    {
     "name": "stdout",
     "output_type": "stream",
     "text": [
      "Query 1 of 4\n",
      "Executing: /home/devspace/project/src/mimiciii_queries/icustay_detail.sql\n",
      "Done. Query time = 0.50 seconds\n",
      "Writing result to csv: /home/devspace/project/data/mimiciii_query_results/icustay_detail.csv\n",
      "Done. csv write time = 0.40 seconds\n",
      "\n",
      "Query 2 of 4\n",
      "Executing: /home/devspace/project/src/mimiciii_queries/pivoted_bg.sql\n",
      "Done. Query time = 17.10 seconds\n",
      "Writing result to csv: /home/devspace/project/data/mimiciii_query_results/pivoted_bg.csv\n",
      "Done. csv write time = 2.92 seconds\n",
      "\n",
      "Query 3 of 4\n",
      "Executing: /home/devspace/project/src/mimiciii_queries/pivoted_lab.sql\n",
      "Done. Query time = 24.65 seconds\n",
      "Writing result to csv: /home/devspace/project/data/mimiciii_query_results/pivoted_lab.csv\n",
      "Done. csv write time = 4.86 seconds\n",
      "\n",
      "Query 4 of 4\n",
      "Executing: /home/devspace/project/src/mimiciii_queries/pivoted_vital.sql\n",
      "Done. Query time = 63.67 seconds\n",
      "Writing result to csv: /home/devspace/project/data/mimiciii_query_results/pivoted_vital.csv\n",
      "Done. csv write time = 21.44 seconds\n",
      "\n"
     ]
    }
   ],
   "source": [
    "db_access = mdb.MimiciiiDatabaseAccess(\n",
    "    dotenv_path=lcp.DB_DOTENV_PATH, output_dir=lcp.DB_OUTPUT_DIR\n",
    ")\n",
    "db_access.connect()\n",
    "db_query_results = db_access.run_sql_queries(\n",
    "    sql_query_paths=lcs.DB_QUERIES\n",
    ")\n",
    "db_access.close_connection()"
   ]
  },
  {
   "cell_type": "code",
   "execution_count": 3,
   "metadata": {
    "editable": true,
    "slideshow": {
     "slide_type": ""
    },
    "tags": []
   },
   "outputs": [],
   "source": [
    "import lstm_adversarial_attack.preprocess.preprocessor as pre"
   ]
  },
  {
   "cell_type": "code",
   "execution_count": 4,
   "metadata": {},
   "outputs": [
    {
     "name": "stdout",
     "output_type": "stream",
     "text": [
      "\n",
      "Running preprocess module 1 of 5: Prefilter\n",
      "Done with Prefilter. Results saved to:\n",
      "path: /home/devspace/project/data/preprocess_checkpoints/1_prefilter/icustay.pickle, data_type: DataFrame\n",
      "path: /home/devspace/project/data/preprocess_checkpoints/1_prefilter/bg.pickle, data_type: DataFrame\n",
      "path: /home/devspace/project/data/preprocess_checkpoints/1_prefilter/vital.pickle, data_type: DataFrame\n",
      "path: /home/devspace/project/data/preprocess_checkpoints/1_prefilter/lab.pickle, data_type: DataFrame\n",
      "\n",
      "Running preprocess module 2 of 5: ICU Stay Data + Measurement Data Combiner\n",
      "Done with ICU Stay Data + Measurement Data Combiner. Results saved to:\n",
      "path: /home/devspace/project/data/preprocess_checkpoints/2_merged_stay_measurements/icustay_bg_lab_vital.pickle, data_type: DataFrame\n",
      "path: /home/devspace/project/data/preprocess_checkpoints/2_merged_stay_measurements/bg_lab_vital_summary_stats.pickle, data_type: DataFrame\n",
      "\n",
      "Running preprocess module 3 of 5: FullAdmission Object List Builder\n",
      "Done with FullAdmission Object List Builder. Results saved to:\n",
      "path: /home/devspace/project/data/preprocess_checkpoints/3_full_admission_list/full_admission_list.pickle, data_type: list\n",
      "\n",
      "Running preprocess module 4 of 5: Feature Builder\n",
      "Done building features for sample 5000/41960\n",
      "Done building features for sample 10000/41960\n",
      "Done building features for sample 15000/41960\n",
      "Done building features for sample 20000/41960\n",
      "Done building features for sample 25000/41960\n",
      "Done building features for sample 30000/41960\n",
      "Done building features for sample 35000/41960\n",
      "Done building features for sample 40000/41960\n",
      "Done with Feature Builder. Results saved to:\n",
      "path: /home/devspace/project/data/preprocess_checkpoints/4_feature_builder/hadm_list_with_processed_dfs.pickle, data_type: list\n",
      "\n",
      "Running preprocess module 5 of 5: Feature Finalizer\n",
      "Done with Feature Finalizer. Results saved to:\n",
      "path: /home/devspace/project/data/output_feature_finalizer/measurement_col_names.pickle, data_type: tuple\n",
      "path: /home/devspace/project/data/output_feature_finalizer/measurement_data_list.pickle, data_type: list\n",
      "path: /home/devspace/project/data/output_feature_finalizer/in_hospital_mortality_list.pickle, data_type: list\n",
      "\n",
      "All preprocess modules complete.\n",
      "Total preprocessing time = 518.65 seconds\n"
     ]
    }
   ],
   "source": [
    "preprocessor = pre.Preprocessor()\n",
    "preprocessed_resources = preprocessor.preprocess()"
   ]
  },
  {
   "cell_type": "code",
   "execution_count": null,
   "metadata": {},
   "outputs": [],
   "source": []
  }
 ],
 "metadata": {
  "kernelspec": {
   "display_name": "Python 3 (ipykernel)",
   "language": "python",
   "name": "python3"
  },
  "language_info": {
   "codemirror_mode": {
    "name": "ipython",
    "version": 3
   },
   "file_extension": ".py",
   "mimetype": "text/x-python",
   "name": "python",
   "nbconvert_exporter": "python",
   "pygments_lexer": "ipython3",
   "version": "3.10.9"
  }
 },
 "nbformat": 4,
 "nbformat_minor": 4
}
